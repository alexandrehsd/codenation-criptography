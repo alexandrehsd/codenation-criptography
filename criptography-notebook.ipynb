{
 "cells": [
  {
   "cell_type": "code",
   "execution_count": null,
   "metadata": {},
   "outputs": [],
   "source": [
    "import requests as rqt\n",
    "import json\n",
    "import hashlib"
   ]
  },
  {
   "cell_type": "code",
   "execution_count": null,
   "metadata": {},
   "outputs": [],
   "source": [
    "# Get the json file\n",
    "TOKEN = 'YOUR_TOKEN'\n",
    "auth_url = 'https://api.codenation.dev/v1/challenge/dev-ps/generate-data?token=' + TOKEN\n",
    "\n",
    "receive = rqt.get(auth_url)"
   ]
  },
  {
   "cell_type": "code",
   "execution_count": null,
   "metadata": {},
   "outputs": [],
   "source": [
    "# tranform string json into a dict-like data-structure\n",
    "data = json.loads(receive.text)"
   ]
  },
  {
   "cell_type": "code",
   "execution_count": null,
   "metadata": {},
   "outputs": [],
   "source": [
    "# read the attributes 'cifrado' and 'numero_casas' from the data\n",
    "cifrado = data['cifrado']\n",
    "shift = data['numero_casas']"
   ]
  },
  {
   "cell_type": "code",
   "execution_count": null,
   "metadata": {},
   "outputs": [],
   "source": [
    "def decode(string, shift):\n",
    "    '''\n",
    "    Decode the data according to the shift parameter\n",
    "    '''\n",
    "    decoded = ''\n",
    "    \n",
    "    for letter in string:\n",
    "        if letter.isalpha():\n",
    "            decoded = decoded + chr(ord(letter) - shift)\n",
    "        else :\n",
    "            decoded = decoded + letter\n",
    "    \n",
    "    return(decoded)"
   ]
  },
  {
   "cell_type": "code",
   "execution_count": null,
   "metadata": {},
   "outputs": [],
   "source": [
    "data['decifrado'] = decode(cifrado, shift)"
   ]
  },
  {
   "cell_type": "code",
   "execution_count": null,
   "metadata": {},
   "outputs": [],
   "source": [
    "data"
   ]
  },
  {
   "cell_type": "code",
   "execution_count": null,
   "metadata": {},
   "outputs": [],
   "source": [
    "# generate sha1 coding\n",
    "hash_object = hashlib.sha1(data['decifrado'].encode('utf-8'))\n",
    "print(hash_object.hexdigest())"
   ]
  },
  {
   "cell_type": "code",
   "execution_count": null,
   "metadata": {},
   "outputs": [],
   "source": [
    "# decoding from hex to utf-8\n",
    "data['resumo_criptografico'] = hash_object.hexdigest()"
   ]
  },
  {
   "cell_type": "code",
   "execution_count": null,
   "metadata": {},
   "outputs": [],
   "source": [
    "data"
   ]
  },
  {
   "cell_type": "code",
   "execution_count": null,
   "metadata": {},
   "outputs": [],
   "source": [
    "# open answer file\n",
    "with open('answer.json', 'w') as outfile:\n",
    "    json.dump(data, outfile)"
   ]
  },
  {
   "cell_type": "code",
   "execution_count": null,
   "metadata": {},
   "outputs": [],
   "source": [
    "# Challenge submission\n",
    "answer = {'answer': open('answer.json', 'rb')}\n",
    "submit_url = 'https://api.codenation.dev/v1/challenge/dev-ps/submit-solution?token=' + TOKEN\n",
    "r = rqt.post(submit_url, files = answer)"
   ]
  },
  {
   "cell_type": "code",
   "execution_count": null,
   "metadata": {},
   "outputs": [],
   "source": [
    "r.status_code"
   ]
  },
  {
   "cell_type": "code",
   "execution_count": null,
   "metadata": {},
   "outputs": [],
   "source": [
    "r.text"
   ]
  }
 ],
 "metadata": {
  "kernelspec": {
   "display_name": "Python 3",
   "language": "python",
   "name": "python3"
  },
  "language_info": {
   "codemirror_mode": {
    "name": "ipython",
    "version": 3
   },
   "file_extension": ".py",
   "mimetype": "text/x-python",
   "name": "python",
   "nbconvert_exporter": "python",
   "pygments_lexer": "ipython3",
   "version": "3.6.7"
  }
 },
 "nbformat": 4,
 "nbformat_minor": 4
}
